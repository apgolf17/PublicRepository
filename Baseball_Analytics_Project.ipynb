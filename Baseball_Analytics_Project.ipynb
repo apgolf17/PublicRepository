{
 "cells": [
  {
   "cell_type": "markdown",
   "id": "71fcd239",
   "metadata": {},
   "source": [
    "Within this assessment, I was given the pitches from the 2011 MLB season and description data for each column within the data. The goal of the assessment is to build a model that will predict the next pitch thrown. \n",
    "\n",
    "I went about this model wanting to break down the data and look at specific pitcher data and predict based on each pitcher. Each pitcher has a unique set of pitches and throws them at different rates. For example, Tim Wakefield, a predominant knuckleball pitcher who pitched for the Red Sox in 2011, has a completely different pitch profile than Mariano Rivera, a closer for the New York Yankees in 2011 who relied upon his famous cutter.\n",
    "\n",
    "Once I realized I wanted to breakdown by pitcher, I needed to try and find other important categorical and empirical data to add to the model. After studying the data, I thought I needed to add the following categories:\n",
    "- **pitcher_id** - identify and group by pitcher\n",
    "- **game_pk** - identifies the game id and can be used to group the pitcher_id with to find previous pitches within the game.\n",
    "- **inning** - identify the inning the pitcher is throwing in, in case earlier in games certain pitches are thrown.\n",
    "- **top** - whether the inning is at the top or bottom of the inning to show if player is on the home or away team.\n",
    "- **pcount_at_bat** - identifies the number of pitches within the at bat, belief is a pitcher may throw different pitches early within an at bat.\n",
    "- **p_throws/stand** - identifies the hand the pitcher throws with and the stance of the batter. Thought process is certain pitches may be thrown to players who bat and throw on same side or opposite side.\n",
    "- **balls/strikes/fouls/outs** - the count and number of outs during the at bat. The scenario of the at bat can determine the type of pitches thrown.\n",
    "- **type** - identifies if the pitch was either a strike, ball or in play. Used more for identifying the previous type to see if a pitcher throws a predominant pitch after a strike/ball/etc.\n",
    "- **pitch_type** - identifies the type of pitch the pitcher threw, important for understanding the types of pitcher can throw and for pitches thrown in certain scenarios.\n",
    "- **on_1b/on_2b/on_3b** - if a player is on 1st, 2nd or 3rd base. Helps in indentifying the scenario the pitcher pitches in and the pitches thrown while runners on/off base.\n",
    "- **home_team_runs/away_team_runs** - identifies the score of the game and seeing if a pitcher pitches differently in different score scenarios.\n",
    "- **zone** - zone where the pitch crossed homeplate based on the statcast data.\n",
    "- **start_speed** - speed which the ball left a player's hand based on the statcast data. Pitchers may alter speed based on previous pitch.\n"
   ]
  },
  {
   "cell_type": "code",
   "execution_count": 4,
   "id": "9cbb5b64",
   "metadata": {},
   "outputs": [
    {
     "ename": "ModuleNotFoundError",
     "evalue": "No module named 'xgboost'",
     "output_type": "error",
     "traceback": [
      "\u001b[1;31m---------------------------------------------------------------------------\u001b[0m",
      "\u001b[1;31mModuleNotFoundError\u001b[0m                       Traceback (most recent call last)",
      "Cell \u001b[1;32mIn[4], line 5\u001b[0m\n\u001b[0;32m      3\u001b[0m \u001b[38;5;28;01mimport\u001b[39;00m \u001b[38;5;21;01mpandas\u001b[39;00m \u001b[38;5;28;01mas\u001b[39;00m \u001b[38;5;21;01mpd\u001b[39;00m\n\u001b[0;32m      4\u001b[0m \u001b[38;5;28;01mfrom\u001b[39;00m \u001b[38;5;21;01msklearn\u001b[39;00m\u001b[38;5;21;01m.\u001b[39;00m\u001b[38;5;21;01mmodel_selection\u001b[39;00m \u001b[38;5;28;01mimport\u001b[39;00m train_test_split, GridSearchCV\n\u001b[1;32m----> 5\u001b[0m \u001b[38;5;28;01mfrom\u001b[39;00m \u001b[38;5;21;01mxgboost\u001b[39;00m \u001b[38;5;28;01mimport\u001b[39;00m XGBClassifier\n\u001b[0;32m      6\u001b[0m \u001b[38;5;28;01mfrom\u001b[39;00m \u001b[38;5;21;01msklearn\u001b[39;00m\u001b[38;5;21;01m.\u001b[39;00m\u001b[38;5;21;01mmetrics\u001b[39;00m \u001b[38;5;28;01mimport\u001b[39;00m accuracy_score\n\u001b[0;32m      7\u001b[0m \u001b[38;5;28;01mimport\u001b[39;00m \u001b[38;5;21;01mnumpy\u001b[39;00m \u001b[38;5;28;01mas\u001b[39;00m \u001b[38;5;21;01mnp\u001b[39;00m\n",
      "\u001b[1;31mModuleNotFoundError\u001b[0m: No module named 'xgboost'"
     ]
    }
   ],
   "source": [
    "## import relevant libraries\n",
    "\n",
    "import pandas as pd\n",
    "from sklearn.model_selection import train_test_split, GridSearchCV\n",
    "from xgboost import XGBClassifier\n",
    "from sklearn.metrics import accuracy_score\n",
    "import numpy as np\n",
    "from collections import Counter\n",
    "import warnings\n",
    "warnings.filterwarnings(\"ignore\")\n",
    "import matplotlib.pyplot as plt"
   ]
  },
  {
   "cell_type": "code",
   "execution_count": null,
   "id": "1b0bb599",
   "metadata": {},
   "outputs": [],
   "source": [
    "## Read the file into a dataframe to manipulate data\n",
    "all_pitches = pd.read_csv('pitches', low_memory = False)"
   ]
  },
  {
   "cell_type": "code",
   "execution_count": null,
   "id": "9b8ae65f",
   "metadata": {
    "scrolled": true
   },
   "outputs": [],
   "source": [
    "## Describe the statistics of certain data columns to make sure there are no extreme outliers, such as start speed above 105, etc.\n",
    "\n",
    "all_pitches[['pcount_pitcher','start_speed','end_speed','sz_top','sz_bot','pfx_x','pfx_z','px','pz','x0','z0','y0',\n",
    "            'vx0','vz0','vy0','ax','az','ay','break_length','break_y','break_angle','spin_rate']].describe()"
   ]
  },
  {
   "cell_type": "markdown",
   "id": "0b98473f",
   "metadata": {},
   "source": [
    "## Clean Data\n",
    "\n",
    "Once the data has been imported, I wanted to create a function to clean the data, and remove unwanted columns. Additionally, I wanted to add previous pitch data to have a better understanding of pitchers patterns. "
   ]
  },
  {
   "cell_type": "code",
   "execution_count": null,
   "id": "2c9ec4bb",
   "metadata": {},
   "outputs": [],
   "source": [
    "def clean_data(df):\n",
    "    \n",
    "    pitches = df\n",
    "    \n",
    "    ## Keep only relevant columns\n",
    "    keep_columns = ['game_pk','inning','top','pcount_at_bat','pcount_pitcher','pitcher_id','p_throws','batter_id','stand',\n",
    "           'balls','strikes','fouls','outs','type','pitch_type','on_1b','on_2b','on_3b',\n",
    "           'home_team_runs','away_team_runs','zone','start_speed']\n",
    "\n",
    "    pitches = all_pitches[keep_columns]\n",
    "\n",
    "    ## remove columns where the pitch_type is unknown\n",
    "    pitches = pitches[~pd.isna(pitches['pitch_type'])]\n",
    "    \n",
    "    ## create a unqique identifier for pitchers and the game so previous pitches can be found with the groupby.\n",
    "    pitches['game_pitcher_id'] = pitches['game_pk'].astype(str)+\"_\"+pitches['pitcher_id'].astype(str)\n",
    "    pitches.drop(['game_pk'],axis = 1, inplace = True)\n",
    "\n",
    "    ## Find the score differential for the pitcher pitching as it may effect pitch selection\n",
    "    pitches['score_differential'] = -np.power(-1, pitches['top']) * (pitches['home_team_runs'] - pitches['away_team_runs'])\n",
    "    pitches.drop(['home_team_runs','away_team_runs'],axis = 1, inplace = True)\n",
    "\n",
    "    \"\"\"Convert the players on base to either True/False as we don't care the specific player on the base. \n",
    "    In future creation of the model knowing the player on base may influence pitches, \n",
    "    i.e. a known base stealer on first pitcher may throw only fastballs.\"\"\"\n",
    "    \n",
    "    pitches['on_1b'] = pitches['on_1b'].apply(lambda x: not np.isnan(x))\n",
    "    pitches['on_2b'] = pitches['on_2b'].apply(lambda x: not np.isnan(x))\n",
    "    pitches['on_3b'] = pitches['on_3b'].apply(lambda x: not np.isnan(x))\n",
    "    \n",
    "    ## Create a True/False of if the batter and pitcher both hit and pitch from the same side to see if this influences pitch selection\n",
    "    pitches['same_side_pitch_bat'] = pitches['p_throws'] == pitches['stand']\n",
    "    pitches.drop(['p_throws','stand'],axis = 1, inplace = True)\n",
    "    \n",
    "    ## Find the previous pitch outcome to see if this influences future pitch selection\n",
    "    pitches['prev_pitch_outcome']= pitches.groupby('game_pitcher_id')['type'].apply(lambda x: x.shift(1))\n",
    "    pitches.drop(['type'],axis = 1, inplace = True)\n",
    "    \n",
    "    ## find the previous zone the pitcher threw the ball to see if it influences next pitch\n",
    "    pitches['prev_zone']= pitches.groupby('game_pitcher_id')['zone'].apply(lambda x: x.shift(1))\n",
    "    pitches.drop(['zone'],axis = 1, inplace = True)\n",
    "    \n",
    "    ## find the previous speed of the past pitch to see if it influences the next pitch selection\n",
    "    pitches['prev_start_speed']= pitches.groupby('game_pitcher_id')['start_speed'].apply(lambda x: x.shift(1))\n",
    "    pitches.drop(['start_speed'],axis = 1, inplace = True)\n",
    "    \n",
    "    ## Find previous pitch type to see if past pitch types in certain scenarios effects pitch selection\n",
    "    pitches['prev_pitch_type'] = pitches.groupby('game_pitcher_id')['pitch_type'].apply(lambda x: x.shift(1))\n",
    "    \n",
    "    ## Change the pitch outcome to a number as opposed to category variable\n",
    "    def pitch_outcome_numeric(pitch):\n",
    "        if pitch == 'B':\n",
    "            return 0\n",
    "        elif pitch == 'S':\n",
    "            return 1\n",
    "        else:\n",
    "            return 2\n",
    "    pitches['prev_pitch_outcome'] = pitches['prev_pitch_outcome'].apply(pitch_outcome_numeric)\n",
    "\n",
    "    ## Remove certain unknown pitches or automatic balls, pitch-outs, and where the previous pitch is unknown\n",
    "    remove_pitches = ['PO','UN','AB','AS','IN']\n",
    "    pitches = pitches[~pitches['pitch_type'].isin(remove_pitches)]\n",
    "    pitches = pitches[~pitches['prev_pitch_type'].isin(remove_pitches)]\n",
    "    pitches = pitches[~pd.isna(pitches['prev_pitch_type'])]\n",
    "    \n",
    "    ## Group all fastballs in 1 group due to them being hard to distinguish within statcast\n",
    "    fastball_pitches = ['FA','FS','FT','FF']\n",
    "\n",
    "    def mapping_fastballs(pitch):\n",
    "        if pitch in fastball_pitches:\n",
    "            return 'FB'\n",
    "        else:\n",
    "            return pitch\n",
    "\n",
    "    pitches['pitch_type'] = pitches['pitch_type'].apply(mapping_fastballs)\n",
    "    pitches['prev_pitch_type'] = pitches['prev_pitch_type'].apply(mapping_fastballs)\n",
    "    \n",
    "    ##reorder and add only relevant columns\n",
    "    pitches = pitches[['pitcher_id','batter_id','pitch_type','inning','top','pcount_at_bat','pcount_pitcher','balls','strikes','fouls',\n",
    "                       'outs','on_1b','on_2b','on_3b','same_side_pitch_bat','score_differential','prev_pitch_type','prev_pitch_outcome',\n",
    "                      'prev_zone','prev_start_speed']]\n",
    "    return pitches"
   ]
  },
  {
   "cell_type": "code",
   "execution_count": null,
   "id": "64a4f2dc",
   "metadata": {},
   "outputs": [],
   "source": [
    "## clean the pitches\n",
    "cleaned_pitches = clean_data(all_pitches)\n",
    "cleaned_pitches.head()"
   ]
  },
  {
   "cell_type": "markdown",
   "id": "bc0a0dc5",
   "metadata": {},
   "source": [
    "## Create Model\n",
    "Once the data is cleaned and in an acceptable format, I want to train a model that will handle all of the pitch data for a specific pitcher and based on the other variables give the best guess for the pitch.\n",
    "\n",
    "Based on the amount of data and the decisions that needed to be made, I decided to use a XGBoost model. Obviously with the amount of variables involved, a linear model does not make sense to use. Using the XGBoost model since it is great for regression, classification and ranking problems. The model creates different decision trees and tries to predict the category or label based on previous data. In this example, based on the categories from the pitching data, it will help create an expected pitch type."
   ]
  },
  {
   "cell_type": "code",
   "execution_count": 2,
   "id": "d353434c",
   "metadata": {},
   "outputs": [],
   "source": [
    "def train_guess_pitch_model(data, cutoff = 1500):\n",
    "    \n",
    "    ## Find the number of pitchers who meet the cut off\n",
    "    pitcher_count_df = data.groupby('pitcher_id')['pcount_pitcher'].count().reset_index().rename(columns = {'pcount_pitcher':'num_of_pitches'})\n",
    "    pitcher_count_df = pitcher_count_df.query(f'num_of_pitches > {cutoff}')\n",
    "\n",
    "    ## return pitchers into a list\n",
    "    pitcher_list = pitcher_count_df['pitcher_id'].to_list()\n",
    "\n",
    "    ## Loop through each pitcher within the pitcher list\n",
    "    for i, pitcher in enumerate(pitcher_list):\n",
    "        ## Find the dataframe of just the pitcher's pitches and drop the pitcher_id columns\n",
    "        this_pitcher_df = data.query(f'pitcher_id == {pitcher}')\n",
    "        this_pitcher_df.drop('pitcher_id',axis = 1,inplace=True)\n",
    "\n",
    "        ## return a list of the pitch types for the specific pitcher within the loop\n",
    "        all_pitch_types = list(set(list(this_pitcher_df['prev_pitch_type'].unique()) + list(this_pitcher_df['pitch_type'].unique())))\n",
    "        all_pitch_types_count = Counter(this_pitcher_df['prev_pitch_type'])\n",
    "\n",
    "        ## map pitch type to a number and number to pitch type to be used later\n",
    "        pitch_map = {all_pitch_types[i]: i for i in range(len(all_pitch_types))}\n",
    "        pitch_unmap = {v: k for k, v in pitch_map.items()}\n",
    "\n",
    "        ## Turn pitch type from a label into a number\n",
    "        this_pitcher_df['pitch_type'] = this_pitcher_df['pitch_type'].apply(lambda x:pitch_map[x])\n",
    "        this_pitcher_df['prev_pitch_type'] = this_pitcher_df['prev_pitch_type'].apply(lambda x:pitch_map[x])\n",
    "\n",
    "        ## Create X values which include all variables except for pitch type and y value which is just pitch_type\n",
    "        X = this_pitcher_df.drop('pitch_type', axis = 1)\n",
    "        y = this_pitcher_df['pitch_type']\n",
    "\n",
    "        ## Split the data into test and train data\n",
    "        X_train, X_test, y_train, y_test = train_test_split(X, y, test_size=0.2, random_state=2500)\n",
    "\n",
    "\n",
    "        ## Create XGBoost parameters, setting the max depth of the tree either 2, 5 or 17 for the depth of the tree and learning weights to .01, .1 or .2\n",
    "        xgb_params = {\"max_depth\": (2, 5, 17),\n",
    "                  \"learning_rate\": (0.01, 0.1, 0.2)}\n",
    "    \n",
    "        ## Run a gridsearch n the XGBoost model to find the best optimized between maxdepth and learning rate\n",
    "        xgb_opt = GridSearchCV(XGBClassifier(objective='multi:softprob', num_class=len(all_pitch_types_count)), \n",
    "                           param_grid=xgb_params, cv=5, scoring='accuracy', verbose=0, n_jobs=-1)\n",
    "        \n",
    "        ## create the fit and make the predicitions for the pitch_type\n",
    "        xgb_opt.fit(X_train, y_train)\n",
    "        y_pred = xgb_opt.predict(X_test)\n",
    "        y_prob = xgb_opt.predict_proba(X_test)\n",
    "    \n",
    "        ## return the accuracy for the model and store for print out\n",
    "        accuracy = round(accuracy_score(y_test, y_pred) * 100, 1)\n",
    "\n",
    "        # get and store the mode accurarcy which just uses the most frequent occuring pitch\n",
    "        mode_accuracy = round(max(all_pitch_types_count.values()) / sum(all_pitch_types_count.values()) * 100., 1)\n",
    "\n",
    "        # print for every 5th pitcher\n",
    "        if i % 5 == 0:\n",
    "            print()\n",
    "            print(f\"Pitcher ID: {pitcher}\")\n",
    "            print(f\"Pitcher's pitch map: {pitch_map}\")\n",
    "            print(f\"Pitcher's pitch counter: {dict(all_pitch_types_count)}\")\n",
    "            print(f\"Number of data points in training: {X_train.shape[0]}\")\n",
    "            print(f\"Number of data points in testing: {X_test.shape[0]}\")\n",
    "            print(f\"Best params: {xgb_opt.best_params_}\")\n",
    "            print(f\"Mode accuracy: {mode_accuracy}\")\n",
    "            print(f\"XGBooost accuracy: {accuracy}\")\n",
    "    "
   ]
  },
  {
   "cell_type": "code",
   "execution_count": 3,
   "id": "48d8ec36",
   "metadata": {},
   "outputs": [
    {
     "ename": "NameError",
     "evalue": "name 'cleaned_pitches' is not defined",
     "output_type": "error",
     "traceback": [
      "\u001b[1;31m---------------------------------------------------------------------------\u001b[0m",
      "\u001b[1;31mNameError\u001b[0m                                 Traceback (most recent call last)",
      "Cell \u001b[1;32mIn[3], line 1\u001b[0m\n\u001b[1;32m----> 1\u001b[0m train_guess_pitch_model(cleaned_pitches, cutoff\u001b[38;5;241m=\u001b[39m\u001b[38;5;241m2000\u001b[39m)\n",
      "\u001b[1;31mNameError\u001b[0m: name 'cleaned_pitches' is not defined"
     ]
    }
   ],
   "source": [
    "train_guess_pitch_model(cleaned_pitches, cutoff=2000)"
   ]
  },
  {
   "cell_type": "markdown",
   "id": "abf5eccd",
   "metadata": {},
   "source": [
    "## Next Steps\n",
    "\n",
    "I have 2 main areas for next steps within this project. First, I would like to create a function where pitcher id is the only variable needed and it will export the expected pitch. Different variables such as score, runners on base, pitch number, etc. can be added to give an even more specific prediction. Depending on the use cases, I would create a Dash app where users could select this data from dropdown menus or enter the data, or even gather real-time data from an MLB API where you can display the odds of the next pitch.\n",
    "\n",
    "Second, I would like to add some more intricacies into the model. For example, I think the batter can influence the types of pitches thrown. However, I do not think it is as often as people would think. For example, only few hitters, like Bryce Harper, or high-end talent probably get a different pitch selection than most major league players. Additionally, I mentioned the types of players on base may influence the type of pitches thrown. These are all minor tweaks to make the model hopefully more efficient and accurate."
   ]
  },
  {
   "cell_type": "code",
   "execution_count": null,
   "id": "71672245",
   "metadata": {},
   "outputs": [],
   "source": []
  }
 ],
 "metadata": {
  "celltoolbar": "Raw Cell Format",
  "kernelspec": {
   "display_name": "Python 3 (ipykernel)",
   "language": "python",
   "name": "python3"
  },
  "language_info": {
   "codemirror_mode": {
    "name": "ipython",
    "version": 3
   },
   "file_extension": ".py",
   "mimetype": "text/x-python",
   "name": "python",
   "nbconvert_exporter": "python",
   "pygments_lexer": "ipython3",
   "version": "3.11.5"
  }
 },
 "nbformat": 4,
 "nbformat_minor": 5
}
